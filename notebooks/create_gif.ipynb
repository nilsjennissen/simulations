{
 "cells": [
  {
   "cell_type": "code",
   "execution_count": 21,
   "outputs": [
    {
     "name": "stderr",
     "output_type": "stream",
     "text": [
      "/var/folders/sl/c5pyww8j61j6_9_z4twp2ygc0000gn/T/ipykernel_8090/2398305064.py:16: DeprecationWarning: Starting with ImageIO v3 the behavior of this function will switch to that of iio.v3.imread. To keep the current behavior (and make this warning disappear) use `import imageio.v2 as imageio` or call `imageio.v2.imread` directly.\n",
      "  new_frame = imageio.imread(i)\n"
     ]
    }
   ],
   "source": [
    "# Creating a GIF from the last run of the simulation\n",
    "import imageio\n",
    "import glob\n",
    "import re\n",
    "import os\n",
    "\n",
    "# Create a GIF from the last run of the simulation\n",
    "def create_gif():\n",
    "    frames = []\n",
    "    # Get a list of all the png files in the data directory\n",
    "    png_files = glob.glob(\"../data/*.png\")\n",
    "\n",
    "    # Sort the list of files by name\n",
    "    png_files.sort(key=lambda f: int(re.sub('\\D', '', f)))\n",
    "    for i in png_files:\n",
    "        new_frame = imageio.imread(i)\n",
    "        frames.append(new_frame)\n",
    "        # sort the frames by name\n",
    "    imageio.mimsave(f'../gifs/animation.gif', frames, 'GIF', duration=40)\n",
    "\n",
    "    # Delete the png files\n",
    "    for f in png_files:\n",
    "        os.remove(f)\n",
    "\n",
    "\n",
    "create_gif()"
   ],
   "metadata": {
    "collapsed": false,
    "ExecuteTime": {
     "start_time": "2023-04-27T19:05:11.738132Z",
     "end_time": "2023-04-27T19:07:56.879480Z"
    }
   }
  },
  {
   "cell_type": "code",
   "execution_count": null,
   "outputs": [],
   "source": [],
   "metadata": {
    "collapsed": false
   }
  }
 ],
 "metadata": {
  "kernelspec": {
   "display_name": "Python 3",
   "language": "python",
   "name": "python3"
  },
  "language_info": {
   "codemirror_mode": {
    "name": "ipython",
    "version": 2
   },
   "file_extension": ".py",
   "mimetype": "text/x-python",
   "name": "python",
   "nbconvert_exporter": "python",
   "pygments_lexer": "ipython2",
   "version": "2.7.6"
  }
 },
 "nbformat": 4,
 "nbformat_minor": 0
}

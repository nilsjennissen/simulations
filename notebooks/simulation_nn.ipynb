{
 "cells": [
  {
   "cell_type": "markdown",
   "source": [
    "[![Open In Colab](https://colab.research.google.com/assets/colab-badge.svg)](https://colab.research.google.com/github/nilsjennissen/simulations/blob/main/notebooks/simulation_nn.ipynb)"
   ],
   "metadata": {
    "collapsed": false
   }
  },
  {
   "cell_type": "markdown",
   "source": [
    "# Creating a simple organism"
   ],
   "metadata": {
    "collapsed": false
   }
  },
  {
   "cell_type": "code",
   "execution_count": 4,
   "outputs": [],
   "source": [
    "from __future__ import division, print_function\n",
    "from collections import defaultdict\n",
    "\n",
    "import numpy as np\n",
    "import operator\n",
    "\n",
    "from math import floor\n",
    "from random import randint, random, sample,uniform\n",
    "from matplotlib import pyplot as plt\n",
    "from matplotlib.patches import Circle\n",
    "import matplotlib.lines as lines\n",
    "from math import atan2, degrees, sqrt\n",
    "from math import sin, cos, radians"
   ],
   "metadata": {
    "collapsed": false,
    "ExecuteTime": {
     "start_time": "2023-04-27T12:48:14.509923Z",
     "end_time": "2023-04-27T12:48:14.514376Z"
    }
   }
  },
  {
   "cell_type": "markdown",
   "source": [
    "# Adjusting the initial Settings"
   ],
   "metadata": {
    "collapsed": false
   }
  },
  {
   "cell_type": "code",
   "execution_count": 6,
   "outputs": [],
   "source": [
    "settings = {}\n",
    "\n",
    "# EVOLUTION SETTINGS\n",
    "settings['pop_size'] = 50       # number of organisms\n",
    "settings['food_num'] = 100      # number of food particles\n",
    "settings['gens'] = 50           # number of generations\n",
    "settings['elitism'] = 0.20      # elitism (selection bias)\n",
    "settings['mutate'] = 0.10       # mutation rate\n",
    "\n",
    "# SIMULATION SETTINGS\n",
    "settings['gen_time'] = 100      # generation length         (seconds)\n",
    "settings['dt'] = 0.04           # simulation time step      (dt)\n",
    "settings['dr_max'] = 720        # max rotational speed      (degrees per second)\n",
    "settings['v_max'] = 0.5         # max velocity              (units per second)\n",
    "settings['dv_max'] =  0.25      # max acceleration (+/-)    (units per second^2)\n",
    "\n",
    "settings['x_min'] = -2.0        # arena western border\n",
    "settings['x_max'] =  2.0        # arena eastern border\n",
    "settings['y_min'] = -2.0        # arena southern border\n",
    "settings['y_max'] =  2.0        # arena northern border\n",
    "\n",
    "settings['plot'] = False        # plot final generation?\n",
    "\n",
    "# ORGANISM NEURAL NET SETTINGS\n",
    "settings['inodes'] = 1          # number of input nodes\n",
    "settings['hnodes'] = 5          # number of hidden nodes\n",
    "settings['onodes'] = 2          # number of output nodes"
   ],
   "metadata": {
    "collapsed": false,
    "ExecuteTime": {
     "start_time": "2023-04-27T12:50:43.868595Z",
     "end_time": "2023-04-27T12:50:43.874477Z"
    }
   }
  },
  {
   "cell_type": "markdown",
   "source": [
    "## Helper Functions"
   ],
   "metadata": {
    "collapsed": false
   }
  },
  {
   "cell_type": "code",
   "execution_count": 7,
   "outputs": [],
   "source": [
    "def dist(x1,y1,x2,y2):\n",
    "    return sqrt((x2-x1)**2 + (y2-y1)**2)\n",
    "\n",
    "\n",
    "def calc_heading(org, food):\n",
    "    d_x = food.x - org.x\n",
    "    d_y = food.y - org.y\n",
    "    theta_d = degrees(atan2(d_y, d_x)) - org.r\n",
    "    if abs(theta_d) > 180: theta_d += 360\n",
    "    return theta_d / 180\n",
    "\n",
    "\n",
    "def plot_frame(settings, organisms, foods, gen, time):\n",
    "    fig, ax = plt.subplots()\n",
    "    fig.set_size_inches(9.6, 5.4)\n",
    "\n",
    "    plt.xlim([settings['x_min'] + settings['x_min'] * 0.25, settings['x_max'] + settings['x_max'] * 0.25])\n",
    "    plt.ylim([settings['y_min'] + settings['y_min'] * 0.25, settings['y_max'] + settings['y_max'] * 0.25])\n",
    "\n",
    "    # PLOT ORGANISMS\n",
    "    for organism in organisms:\n",
    "        plot_organism(organism.x, organism.y, organism.r, ax)\n",
    "\n",
    "    # PLOT FOOD PARTICLES\n",
    "    for food in foods:\n",
    "        plot_food(food.x, food.y, ax)\n",
    "\n",
    "    # MISC PLOT SETTINGS\n",
    "    ax.set_aspect('equal')\n",
    "    frame = plt.gca()\n",
    "    frame.axes.get_xaxis().set_ticks([])\n",
    "    frame.axes.get_yaxis().set_ticks([])\n",
    "\n",
    "    plt.figtext(0.025, 0.95,r'GENERATION: '+str(gen))\n",
    "    plt.figtext(0.025, 0.90,r'T_STEP: '+str(time))\n",
    "\n",
    "    plt.savefig(str(gen)+'-'+str(time)+'.png', dpi=100)\n",
    "##    plt.show()\n"
   ],
   "metadata": {
    "collapsed": false,
    "ExecuteTime": {
     "start_time": "2023-04-27T12:50:45.361562Z",
     "end_time": "2023-04-27T12:50:45.369271Z"
    }
   }
  },
  {
   "cell_type": "code",
   "execution_count": 8,
   "outputs": [],
   "source": [
    "def evolve(settings, organisms_old, gen):\n",
    "\n",
    "    elitism_num = int(floor(settings['elitism'] * settings['pop_size']))\n",
    "    new_orgs = settings['pop_size'] - elitism_num\n",
    "\n",
    "    #--- GET STATS FROM CURRENT GENERATION ----------------+\n",
    "    stats = defaultdict(int)\n",
    "    for org in organisms_old:\n",
    "        if org.fitness > stats['BEST'] or stats['BEST'] == 0:\n",
    "            stats['BEST'] = org.fitness\n",
    "\n",
    "        if org.fitness < stats['WORST'] or stats['WORST'] == 0:\n",
    "            stats['WORST'] = org.fitness\n",
    "\n",
    "        stats['SUM'] += org.fitness\n",
    "        stats['COUNT'] += 1\n",
    "\n",
    "    stats['AVG'] = stats['SUM'] / stats['COUNT']\n",
    "\n",
    "\n",
    "    #--- ELITISM (KEEP BEST PERFORMING ORGANISMS) ---------+\n",
    "    orgs_sorted = sorted(organisms_old, key=operator.attrgetter('fitness'), reverse=True)\n",
    "    organisms_new = []\n",
    "    for i in range(0, elitism_num):\n",
    "        organisms_new.append(organism(settings, wih=orgs_sorted[i].wih, who=orgs_sorted[i].who, name=orgs_sorted[i].name))\n",
    "\n",
    "\n",
    "    #--- GENERATE NEW ORGANISMS ---------------------------+\n",
    "    for w in range(0, new_orgs):\n",
    "\n",
    "        # SELECTION (TRUNCATION SELECTION)\n",
    "        canidates = range(0, elitism_num)\n",
    "        random_index = sample(canidates, 2)\n",
    "        org_1 = orgs_sorted[random_index[0]]\n",
    "        org_2 = orgs_sorted[random_index[1]]\n",
    "\n",
    "        # CROSSOVER\n",
    "        crossover_weight = random()\n",
    "        wih_new = (crossover_weight * org_1.wih) + ((1 - crossover_weight) * org_2.wih)\n",
    "        who_new = (crossover_weight * org_1.who) + ((1 - crossover_weight) * org_2.who)\n",
    "\n",
    "        # MUTATION\n",
    "        mutate = random()\n",
    "        if mutate <= settings['mutate']:\n",
    "\n",
    "            # PICK WHICH WEIGHT MATRIX TO MUTATE\n",
    "            mat_pick = randint(0,1)\n",
    "\n",
    "            # MUTATE: WIH WEIGHTS\n",
    "            if mat_pick == 0:\n",
    "                index_row = randint(0,settings['hnodes']-1)\n",
    "                wih_new[index_row] = wih_new[index_row] * uniform(0.9, 1.1)\n",
    "                if wih_new[index_row] >  1: wih_new[index_row] = 1\n",
    "                if wih_new[index_row] < -1: wih_new[index_row] = -1\n",
    "\n",
    "            # MUTATE: WHO WEIGHTS\n",
    "            if mat_pick == 1:\n",
    "                index_row = randint(0,settings['onodes']-1)\n",
    "                index_col = randint(0,settings['hnodes']-1)\n",
    "                who_new[index_row][index_col] = who_new[index_row][index_col] * uniform(0.9, 1.1)\n",
    "                if who_new[index_row][index_col] >  1: who_new[index_row][index_col] = 1\n",
    "                if who_new[index_row][index_col] < -1: who_new[index_row][index_col] = -1\n",
    "\n",
    "        organisms_new.append(organism(settings, wih=wih_new, who=who_new, name='gen['+str(gen)+']-org['+str(w)+']'))\n",
    "\n",
    "    return organisms_new, stats"
   ],
   "metadata": {
    "collapsed": false,
    "ExecuteTime": {
     "start_time": "2023-04-27T12:50:46.200574Z",
     "end_time": "2023-04-27T12:50:46.202482Z"
    }
   }
  },
  {
   "cell_type": "code",
   "execution_count": 9,
   "outputs": [],
   "source": [
    "def simulate(settings, organisms, foods, gen):\n",
    "\n",
    "    total_time_steps = int(settings['gen_time'] / settings['dt'])\n",
    "\n",
    "    #--- CYCLE THROUGH EACH TIME STEP ---------------------+\n",
    "    for t_step in range(0, total_time_steps, 1):\n",
    "\n",
    "        # PLOT SIMULATION FRAME\n",
    "        #if gen == settings['gens'] - 1 and settings['plot']==True:\n",
    "        if gen==49:\n",
    "            plot_frame(settings, organisms, foods, gen, t_step)\n",
    "\n",
    "\n",
    "        # UPDATE FITNESS FUNCTION\n",
    "        for food in foods:\n",
    "            for org in organisms:\n",
    "                food_org_dist = dist(org.x, org.y, food.x, food.y)\n",
    "\n",
    "                # UPDATE FITNESS FUNCTION\n",
    "                if food_org_dist <= 0.075:\n",
    "                    org.fitness += food.energy\n",
    "                    food.respawn(settings)\n",
    "\n",
    "                # RESET DISTANCE AND HEADING TO NEAREST FOOD SOURCE\n",
    "                org.d_food = 100\n",
    "                org.r_food = 0\n",
    "\n",
    "        # CALCULATE HEADING TO NEAREST FOOD SOURCE\n",
    "        for food in foods:\n",
    "            for org in organisms:\n",
    "\n",
    "                # CALCULATE DISTANCE TO SELECTED FOOD PARTICLE\n",
    "                food_org_dist = dist(org.x, org.y, food.x, food.y)\n",
    "\n",
    "                # DETERMINE IF THIS IS THE CLOSEST FOOD PARTICLE\n",
    "                if food_org_dist < org.d_food:\n",
    "                    org.d_food = food_org_dist\n",
    "                    org.r_food = calc_heading(org, food)\n",
    "\n",
    "        # GET ORGANISM RESPONSE\n",
    "        for org in organisms:\n",
    "            org.think()\n",
    "\n",
    "        # UPDATE ORGANISMS POSITION AND VELOCITY\n",
    "        for org in organisms:\n",
    "            org.update_r(settings)\n",
    "            org.update_vel(settings)\n",
    "            org.update_pos(settings)\n",
    "\n",
    "    return organisms"
   ],
   "metadata": {
    "collapsed": false,
    "ExecuteTime": {
     "start_time": "2023-04-27T12:50:47.159826Z",
     "end_time": "2023-04-27T12:50:47.164122Z"
    }
   }
  },
  {
   "cell_type": "code",
   "execution_count": 10,
   "outputs": [],
   "source": [
    "class food():\n",
    "    def __init__(self, settings):\n",
    "        self.x = uniform(settings['x_min'], settings['x_max'])\n",
    "        self.y = uniform(settings['y_min'], settings['y_max'])\n",
    "        self.energy = 1\n",
    "\n",
    "    def respawn(self,settings):\n",
    "        self.x = uniform(settings['x_min'], settings['x_max'])\n",
    "        self.y = uniform(settings['y_min'], settings['y_max'])\n",
    "        self.energy = 1"
   ],
   "metadata": {
    "collapsed": false,
    "ExecuteTime": {
     "start_time": "2023-04-27T12:50:48.058300Z",
     "end_time": "2023-04-27T12:50:48.063541Z"
    }
   }
  },
  {
   "cell_type": "code",
   "execution_count": 11,
   "outputs": [],
   "source": [
    "class organism():\n",
    "    def __init__(self, settings, wih=None, who=None, name=None):\n",
    "\n",
    "        self.x = uniform(settings['x_min'], settings['x_max'])  # position (x)\n",
    "        self.y = uniform(settings['y_min'], settings['y_max'])  # position (y)\n",
    "\n",
    "        self.r = uniform(0,360)                 # orientation   [0, 360]\n",
    "        self.v = uniform(0,settings['v_max'])   # velocity      [0, v_max]\n",
    "        self.dv = uniform(-settings['dv_max'], settings['dv_max'])   # dv\n",
    "\n",
    "        self.d_food = 100   # distance to nearest food\n",
    "        self.r_food = 0     # orientation to nearest food\n",
    "        self.fitness = 0    # fitness (food count)\n",
    "\n",
    "        self.wih = wih\n",
    "        self.who = who\n",
    "\n",
    "        self.name = name\n",
    "\n",
    "\n",
    "    # NEURAL NETWORK\n",
    "    def think(self):\n",
    "\n",
    "        # SIMPLE MLP\n",
    "        af = lambda x: np.tanh(x)               # activation function\n",
    "        h1 = af(np.dot(self.wih, self.r_food))  # hidden layer\n",
    "        out = af(np.dot(self.who, h1))          # output layer\n",
    "\n",
    "        # UPDATE dv AND dr WITH MLP RESPONSE\n",
    "        self.nn_dv = float(out[0])   # [-1, 1]  (accelerate=1, deaccelerate=-1)\n",
    "        self.nn_dr = float(out[1])   # [-1, 1]  (left=1, right=-1)\n",
    "\n",
    "\n",
    "    # UPDATE HEADING\n",
    "    def update_r(self, settings):\n",
    "        self.r += self.nn_dr * settings['dr_max'] * settings['dt']\n",
    "        self.r = self.r % 360\n",
    "\n",
    "\n",
    "    # UPDATE VELOCITY\n",
    "    def update_vel(self, settings):\n",
    "        self.v += self.nn_dv * settings['dv_max'] * settings['dt']\n",
    "        if self.v < 0: self.v = 0\n",
    "        if self.v > settings['v_max']: self.v = settings['v_max']\n",
    "\n",
    "\n",
    "    # UPDATE POSITION\n",
    "    def update_pos(self, settings):\n",
    "        dx = self.v * cos(radians(self.r)) * settings['dt']\n",
    "        dy = self.v * sin(radians(self.r)) * settings['dt']\n",
    "        self.x += dx\n",
    "        self.y += dy"
   ],
   "metadata": {
    "collapsed": false,
    "ExecuteTime": {
     "start_time": "2023-04-27T12:50:48.934196Z",
     "end_time": "2023-04-27T12:50:48.939661Z"
    }
   }
  },
  {
   "cell_type": "code",
   "execution_count": 12,
   "outputs": [],
   "source": [
    "# Plotting\n",
    "def plot_organism(x1, y1, theta, ax):\n",
    "\n",
    "    circle = Circle([x1,y1], 0.05, edgecolor = 'g', facecolor = 'lightgreen', zorder=8)\n",
    "    ax.add_artist(circle)\n",
    "\n",
    "    edge = Circle([x1,y1], 0.05, facecolor='None', edgecolor = 'darkgreen', zorder=8)\n",
    "    ax.add_artist(edge)\n",
    "\n",
    "    tail_len = 0.075\n",
    "\n",
    "    x2 = cos(radians(theta)) * tail_len + x1\n",
    "    y2 = sin(radians(theta)) * tail_len + y1\n",
    "\n",
    "    ax.add_line(lines.Line2D([x1,x2],[y1,y2], color='darkgreen', linewidth=1, zorder=10))\n",
    "\n",
    "    pass\n",
    "\n",
    "\n",
    "def plot_food(x1, y1, ax):\n",
    "\n",
    "    circle = Circle([x1,y1], 0.03, edgecolor = 'darkslateblue', facecolor = 'mediumslateblue', zorder=5)\n",
    "    ax.add_artist(circle)\n",
    "\n",
    "    pass"
   ],
   "metadata": {
    "collapsed": false,
    "ExecuteTime": {
     "start_time": "2023-04-27T12:50:49.825808Z",
     "end_time": "2023-04-27T12:50:49.830266Z"
    }
   }
  },
  {
   "cell_type": "code",
   "execution_count": null,
   "outputs": [
    {
     "name": "stdout",
     "output_type": "stream",
     "text": [
      "> GEN: 0 BEST: 123 AVG: 26.28 WORST: 114\n",
      "> GEN: 1 BEST: 170 AVG: 67.58 WORST: 5\n",
      "> GEN: 2 BEST: 193 AVG: 72.02 WORST: 5\n",
      "> GEN: 3 BEST: 167 AVG: 59.82 WORST: 5\n",
      "> GEN: 4 BEST: 143 AVG: 57.62 WORST: 8\n",
      "> GEN: 5 BEST: 160 AVG: 66.6 WORST: 11\n",
      "> GEN: 6 BEST: 158 AVG: 78.22 WORST: 9\n",
      "> GEN: 7 BEST: 187 AVG: 71.1 WORST: 11\n",
      "> GEN: 8 BEST: 172 AVG: 63.0 WORST: 10\n",
      "> GEN: 9 BEST: 134 AVG: 63.1 WORST: 8\n",
      "> GEN: 10 BEST: 163 AVG: 68.86 WORST: 11\n",
      "> GEN: 11 BEST: 146 AVG: 71.22 WORST: 9\n",
      "> GEN: 12 BEST: 161 AVG: 76.42 WORST: 18\n",
      "> GEN: 13 BEST: 147 AVG: 77.48 WORST: 8\n",
      "> GEN: 14 BEST: 147 AVG: 71.2 WORST: 7\n",
      "> GEN: 15 BEST: 148 AVG: 79.28 WORST: 7\n",
      "> GEN: 16 BEST: 183 AVG: 71.54 WORST: 5\n",
      "> GEN: 17 BEST: 175 AVG: 69.06 WORST: 5\n",
      "> GEN: 18 BEST: 153 AVG: 67.86 WORST: 12\n",
      "> GEN: 19 BEST: 147 AVG: 76.82 WORST: 9\n",
      "> GEN: 20 BEST: 172 AVG: 75.24 WORST: 17\n",
      "> GEN: 21 BEST: 159 AVG: 71.0 WORST: 3\n",
      "> GEN: 22 BEST: 166 AVG: 73.46 WORST: 6\n",
      "> GEN: 23 BEST: 168 AVG: 73.76 WORST: 7\n",
      "> GEN: 24 BEST: 163 AVG: 64.08 WORST: 7\n",
      "> GEN: 25 BEST: 155 AVG: 70.88 WORST: 5\n",
      "> GEN: 26 BEST: 147 AVG: 77.42 WORST: 10\n",
      "> GEN: 27 BEST: 149 AVG: 61.38 WORST: 4\n",
      "> GEN: 28 BEST: 158 AVG: 66.76 WORST: 11\n",
      "> GEN: 29 BEST: 140 AVG: 70.9 WORST: 7\n",
      "> GEN: 30 BEST: 159 AVG: 79.22 WORST: 11\n",
      "> GEN: 31 BEST: 166 AVG: 70.96 WORST: 6\n",
      "> GEN: 32 BEST: 148 AVG: 83.28 WORST: 22\n",
      "> GEN: 33 BEST: 169 AVG: 68.24 WORST: 2\n",
      "> GEN: 34 BEST: 163 AVG: 70.88 WORST: 5\n",
      "> GEN: 35 BEST: 143 AVG: 64.4 WORST: 6\n",
      "> GEN: 36 BEST: 143 AVG: 69.7 WORST: 11\n",
      "> GEN: 37 BEST: 148 AVG: 72.82 WORST: 13\n",
      "> GEN: 38 BEST: 154 AVG: 73.84 WORST: 8\n",
      "> GEN: 39 BEST: 141 AVG: 68.16 WORST: 12\n",
      "> GEN: 40 BEST: 150 AVG: 67.64 WORST: 9\n",
      "> GEN: 41 BEST: 160 AVG: 71.56 WORST: 10\n",
      "> GEN: 42 BEST: 169 AVG: 70.16 WORST: 3\n",
      "> GEN: 43 BEST: 169 AVG: 77.5 WORST: 8\n",
      "> GEN: 44 BEST: 158 AVG: 72.94 WORST: 5\n",
      "> GEN: 45 BEST: 156 AVG: 67.6 WORST: 8\n",
      "> GEN: 46 BEST: 145 AVG: 69.78 WORST: 8\n",
      "> GEN: 47 BEST: 157 AVG: 64.74 WORST: 6\n",
      "> GEN: 48 BEST: 159 AVG: 76.94 WORST: 15\n"
     ]
    },
    {
     "name": "stderr",
     "output_type": "stream",
     "text": [
      "/var/folders/sl/c5pyww8j61j6_9_z4twp2ygc0000gn/T/ipykernel_76194/822369056.py:14: RuntimeWarning: More than 20 figures have been opened. Figures created through the pyplot interface (`matplotlib.pyplot.figure`) are retained until explicitly closed and may consume too much memory. (To control this warning, see the rcParam `figure.max_open_warning`). Consider using `matplotlib.pyplot.close()`.\n",
      "  fig, ax = plt.subplots()\n"
     ]
    }
   ],
   "source": [
    "def run(settings):\n",
    "\n",
    "    #--- POPULATE THE ENVIRONMENT WITH FOOD ---------------+\n",
    "    foods = []\n",
    "    for i in range(0,settings['food_num']):\n",
    "        foods.append(food(settings))\n",
    "\n",
    "    #--- POPULATE THE ENVIRONMENT WITH ORGANISMS ----------+\n",
    "    organisms = []\n",
    "    for i in range(0,settings['pop_size']):\n",
    "        wih_init = np.random.uniform(-1, 1, (settings['hnodes'], settings['inodes']))     # mlp weights (input -> hidden)\n",
    "        who_init = np.random.uniform(-1, 1, (settings['onodes'], settings['hnodes']))     # mlp weights (hidden -> output)\n",
    "\n",
    "        organisms.append(organism(settings, wih_init, who_init, name='gen[x]-org['+str(i)+']'))\n",
    "\n",
    "    #--- CYCLE THROUGH EACH GENERATION --------------------+\n",
    "    for gen in range(0, settings['gens']):\n",
    "\n",
    "        # SIMULATE\n",
    "        organisms = simulate(settings, organisms, foods, gen)\n",
    "\n",
    "        # EVOLVE\n",
    "        organisms, stats = evolve(settings, organisms, gen)\n",
    "        print('> GEN:',gen,'BEST:',stats['BEST'],'AVG:',stats['AVG'],'WORST:',stats['WORST'])\n",
    "\n",
    "    pass\n",
    "\n",
    "\n",
    "#--- RUN ----------------------------------------------------------------------+\n",
    "\n",
    "run(settings)\n"
   ],
   "metadata": {
    "collapsed": false,
    "pycharm": {
     "is_executing": true
    }
   }
  },
  {
   "cell_type": "code",
   "execution_count": null,
   "outputs": [],
   "source": [],
   "metadata": {
    "collapsed": false
   }
  }
 ],
 "metadata": {
  "kernelspec": {
   "display_name": "Python 3",
   "language": "python",
   "name": "python3"
  },
  "language_info": {
   "codemirror_mode": {
    "name": "ipython",
    "version": 2
   },
   "file_extension": ".py",
   "mimetype": "text/x-python",
   "name": "python",
   "nbconvert_exporter": "python",
   "pygments_lexer": "ipython2",
   "version": "2.7.6"
  }
 },
 "nbformat": 4,
 "nbformat_minor": 0
}
